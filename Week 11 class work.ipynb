{
 "cells": [
  {
   "cell_type": "markdown",
   "id": "75d90fe2",
   "metadata": {},
   "source": [
    "## Dealing with files\n",
    "[Python documentation](https://pythonbasics.org/read-csv-with-pandas/)\n",
    "\n",
    "### Task \n",
    "- save file provided as ```data_file.csv```\n",
    "- type\n",
    "```python\n",
    "import panda as pd \n",
    "import numpy as np\n",
    "```\n",
    "\n",
    "### Reading Files \n",
    "- To read ```.csv``` files we use the panda library ```.read_csv()``` method\n",
    "```python\n",
    "file = \"./data_file.csv\"\n",
    "dataframe = pd.read_csv(file, index_col = 0)\n",
    "print(dataframe)\n",
    "```\n",
    "\n",
    "- ```index_col = 0``` eliminates the first indexing column and out\n",
    "- ```names = ('A', 'B', 'c')``` replaces the column titles with 'A' 'B' 'C'\n"
   ]
  },
  {
   "cell_type": "code",
   "execution_count": 6,
   "id": "747bfab4",
   "metadata": {},
   "outputs": [
    {
     "name": "stdout",
     "output_type": "stream",
     "text": [
      "      Enrolled_Number  Completion\n",
      "2001               10           7\n",
      "2002                0           7\n",
      "2003               11           8\n",
      "2004               24          16\n",
      "2005               41          15\n",
      "2006               65          47\n",
      "2007               69          35\n",
      "2008               92          34\n",
      "2009              111          45\n",
      "2010              102          17\n",
      "2011              132          13\n",
      "2012              162           5\n",
      "2013              150           0\n",
      "2014              103           0\n",
      "2015               61           0\n"
     ]
    }
   ],
   "source": [
    "import numpy as np\n",
    "import pandas as pd\n",
    "\n",
    "file = \"./data_file.csv\"\n",
    "dataframe = pd.read_csv(file, index_col = 0)\n",
    "print(dataframe)"
   ]
  },
  {
   "cell_type": "markdown",
   "id": "a72c827d",
   "metadata": {},
   "source": [
    "### Challenge\n",
    "- find the mean of the second and third column\n",
    "```hint``` use the ```col.mean()``` method"
   ]
  },
  {
   "cell_type": "code",
   "execution_count": 7,
   "id": "94cc086d",
   "metadata": {},
   "outputs": [
    {
     "data": {
      "text/plain": [
       "75.53333333333333"
      ]
     },
     "execution_count": 7,
     "metadata": {},
     "output_type": "execute_result"
    }
   ],
   "source": [
    "Enrolled_mean = dataframe['Enrolled_Number'].mean()\n",
    "Enrolled_mean"
   ]
  },
  {
   "cell_type": "code",
   "execution_count": null,
   "id": "1ce8c00b",
   "metadata": {},
   "outputs": [],
   "source": []
  }
 ],
 "metadata": {
  "kernelspec": {
   "display_name": "Python 3 (ipykernel)",
   "language": "python",
   "name": "python3"
  },
  "language_info": {
   "codemirror_mode": {
    "name": "ipython",
    "version": 3
   },
   "file_extension": ".py",
   "mimetype": "text/x-python",
   "name": "python",
   "nbconvert_exporter": "python",
   "pygments_lexer": "ipython3",
   "version": "3.9.7"
  }
 },
 "nbformat": 4,
 "nbformat_minor": 5
}
